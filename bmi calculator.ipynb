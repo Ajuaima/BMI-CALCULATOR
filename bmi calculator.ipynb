{
 "cells": [
  {
   "cell_type": "code",
   "execution_count": 3,
   "id": "1ae4c7fe",
   "metadata": {
    "scrolled": true
   },
   "outputs": [
    {
     "name": "stdout",
     "output_type": "stream",
     "text": [
      "enter your weight in pounds: 170\n",
      "enter your height in inches: 71\n",
      "23.70759769886927\n"
     ]
    }
   ],
   "source": [
    "name= input('what is your name?')\n",
    "weight = int(input('enter your weight in pounds: '))\n",
    "height = int(input('enter your height in inches: '))\n",
    "Bmi = (weight * 703) / (height * height)\n",
    "print(Bmi)"
   ]
  },
  {
   "cell_type": "code",
   "execution_count": null,
   "id": "cc3936b7",
   "metadata": {},
   "outputs": [],
   "source": [
    "under 18.5 underweight minimal\n",
    "18.5 - 24.9 normal weight minimal\n",
    "25 - 29.9 overweight increased\n",
    "30 - 34.9 obese high\n",
    "35 - 39.9 severly obese very high\n",
    "40 and over morbidly obese extremely high "
   ]
  },
  {
   "cell_type": "code",
   "execution_count": null,
   "id": "1f6b4b37",
   "metadata": {},
   "outputs": [],
   "source": [
    "if Bmi>0:\n",
    "    if(Bmi<18.5):\n",
    "        print('you are underweight. ')\n",
    "    elif(Bmi<=24.9):\n",
    "        print('you are normal weight. ')\n",
    "    elif(Bmi<=29.9):\n",
    "        print('you are overweight. ')\n",
    "    elif(Bmi<=34.9):\n",
    "        print('you are obese. ')\n",
    "    elif(Bmi<=39.9):\n",
    "        print('you are severly obese. ')\n",
    "    elif(Bmi>=40):\n",
    "        print('you are morbidly obese. ')\n",
    "    else:\n",
    "    print('enter valid points')"
   ]
  }
 ],
 "metadata": {
  "kernelspec": {
   "display_name": "Python 3 (ipykernel)",
   "language": "python",
   "name": "python3"
  },
  "language_info": {
   "codemirror_mode": {
    "name": "ipython",
    "version": 3
   },
   "file_extension": ".py",
   "mimetype": "text/x-python",
   "name": "python",
   "nbconvert_exporter": "python",
   "pygments_lexer": "ipython3",
   "version": "3.11.5"
  }
 },
 "nbformat": 4,
 "nbformat_minor": 5
}
